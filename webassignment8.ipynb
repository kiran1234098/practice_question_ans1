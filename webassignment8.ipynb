{
 "cells": [
  {
   "cell_type": "markdown",
   "metadata": {},
   "source": [
    "1. Is the Python Standard Library included with PyInputPlus?\n",
    "ans:\n",
    "No, the Python Standard Library is not included with PyInputPlus. PyInputPlus is a third-party library that provides additional functionality for handling user input in Python. It simplifies the process of getting input from the user and provides features such as input validation, timeout handling, and retrying. However, it does not include the entirety of the Python Standard Library. If you want to use modules or functions from the Python Standard Library, you need to import them separately."
   ]
  },
  {
   "cell_type": "markdown",
   "metadata": {},
   "source": [
    "2. Why is PyInputPlus commonly imported with import pyinputplus as pypi?\n",
    "ans:\n",
    "\n",
    "PyInputPlus is commonly imported with the alias pypi (or any other desired alias) to make it easier and more convenient to reference the library in code. Using a shorter alias saves typing and makes the code more concise.\n",
    "\n",
    "When you import a library or module in Python using the import statement, you can provide an alias for that library/module using the as keyword. This allows you to refer to the library/module using the alias instead of its full name. In the case of PyInputPlus, import pyinputplus as pypi allows you to use the shorter alias pypi instead of typing out the full name pyinputplus every time you want to access a function or class from the library."
   ]
  },
  {
   "cell_type": "markdown",
   "metadata": {},
   "source": [
    "3. How do you distinguish between inputInt() and inputFloat()?\n",
    "ans:\n",
    "In PyInputPlus, the functions inputInt() and inputFloat() are used to prompt the user for integer and floating-point number input, respectively.\n",
    "\n",
    "The main difference between these two functions is the type of input they expect and return.\n",
    "\n",
    "inputInt() specifically handles integer input. It prompts the user for input and validates that the entered value is a valid integer. If the user enters a non-integer value, it will reprompt until a valid integer is provided. The function returns the validated integer value.\n"
   ]
  },
  {
   "cell_type": "markdown",
   "metadata": {},
   "source": [
    "4. Using PyInputPlus, how do you ensure that the user enters a whole number between 0 and 99?\n"
   ]
  },
  {
   "cell_type": "code",
   "execution_count": 2,
   "metadata": {},
   "outputs": [
    {
     "name": "stdout",
     "output_type": "stream",
     "text": [
      "Collecting pyinputplus\n",
      "  Downloading PyInputPlus-0.2.12.tar.gz (20 kB)\n",
      "  Installing build dependencies ... \u001b[?25ldone\n",
      "\u001b[?25h  Getting requirements to build wheel ... \u001b[?25ldone\n",
      "\u001b[?25h    Preparing wheel metadata ... \u001b[?25ldone\n",
      "\u001b[?25hCollecting pysimplevalidate>=0.2.7\n",
      "  Downloading PySimpleValidate-0.2.12.tar.gz (22 kB)\n",
      "  Installing build dependencies ... \u001b[?25ldone\n",
      "\u001b[?25h  Getting requirements to build wheel ... \u001b[?25ldone\n",
      "\u001b[?25h    Preparing wheel metadata ... \u001b[?25ldone\n",
      "\u001b[?25hCollecting stdiomask>=0.0.3\n",
      "  Downloading stdiomask-0.0.6.tar.gz (3.6 kB)\n",
      "  Installing build dependencies ... \u001b[?25ldone\n",
      "\u001b[?25h  Getting requirements to build wheel ... \u001b[?25ldone\n",
      "\u001b[?25h    Preparing wheel metadata ... \u001b[?25ldone\n",
      "\u001b[?25hBuilding wheels for collected packages: pyinputplus, pysimplevalidate, stdiomask\n",
      "  Building wheel for pyinputplus (PEP 517) ... \u001b[?25ldone\n",
      "\u001b[?25h  Created wheel for pyinputplus: filename=PyInputPlus-0.2.12-py3-none-any.whl size=11297 sha256=8950376393ab1b0b1b43dab12bbd94a2efc2dc5460d2dbeb38a93380a10a72ea\n",
      "  Stored in directory: /config/.cache/pip/wheels/b9/b4/e7/825446929f44b25d05f4df52bc4f7d211e5dec4c547126a098\n",
      "  Building wheel for pysimplevalidate (PEP 517) ... \u001b[?25ldone\n",
      "\u001b[?25h  Created wheel for pysimplevalidate: filename=PySimpleValidate-0.2.12-py3-none-any.whl size=16176 sha256=e586ce7a6aea8ea539b3e8c326352609fefdb3c265425890749c9fd0a13c0a08\n",
      "  Stored in directory: /config/.cache/pip/wheels/bd/d4/a5/a003719238ab12962e430310093e567ab7d29bc3bfe062b14c\n",
      "  Building wheel for stdiomask (PEP 517) ... \u001b[?25ldone\n",
      "\u001b[?25h  Created wheel for stdiomask: filename=stdiomask-0.0.6-py3-none-any.whl size=3306 sha256=7a95e84fadda88c090ef7eac2a09e9c7a5465522206055b1d770faac66d575cf\n",
      "  Stored in directory: /config/.cache/pip/wheels/c1/e9/4e/bcdfc282cffe91bb88e951ad9a05fb166ed6460bbe3c6dc02b\n",
      "Successfully built pyinputplus pysimplevalidate stdiomask\n",
      "Installing collected packages: pysimplevalidate, stdiomask, pyinputplus\n",
      "Successfully installed pyinputplus-0.2.12 pysimplevalidate-0.2.12 stdiomask-0.0.6\n",
      "Note: you may need to restart the kernel to use updated packages.\n"
     ]
    }
   ],
   "source": [
    "pip install pyinputplus\n"
   ]
  },
  {
   "cell_type": "code",
   "execution_count": 3,
   "metadata": {},
   "outputs": [
    {
     "name": "stdout",
     "output_type": "stream",
     "text": [
      "Enter a number between 0 and 99: Blank values are not allowed.\n",
      "Enter a number between 0 and 99: Blank values are not allowed.\n",
      "Enter a number between 0 and 99: You entered: 7\n"
     ]
    }
   ],
   "source": [
    "import pyinputplus as pypi\n",
    "\n",
    "num = pypi.inputInt(\"Enter a number between 0 and 99: \", min=0, max=99)\n",
    "print(\"You entered:\", num)\n"
   ]
  },
  {
   "cell_type": "markdown",
   "metadata": {},
   "source": [
    "5. What is transferred to the keyword arguments allowRegexes and blockRegexes?\n",
    "ans:\n",
    "\n",
    "In PyInputPlus, the keyword arguments allowRegexes and blockRegexes are used to specify regular expressions that determine which inputs are allowed or blocked, respectively.\n",
    "\n",
    "allowRegexes allows inputs that match any of the provided regular expressions. It accepts a list of regular expression patterns. If an input matches any of the patterns in the allowRegexes list, it is considered a valid input. If allowRegexes is not provided or set to None, all inputs are allowed by default.\n",
    "\n",
    "blockRegexes blocks inputs that match any of the provided regular expressions. It also accepts a list of regular expression patterns. If an input matches any of the patterns in the blockRegexes list, it is considered invalid, and PyInputPlus will reprompt for input. If blockRegexes is not provided or set to None, no inputs are blocked by default."
   ]
  },
  {
   "cell_type": "markdown",
   "metadata": {},
   "source": [
    "6. If a blank input is entered three times, what does inputStr(limit=3) do?\n",
    "ans:\n",
    "\n",
    "If a blank input is entered three times consecutively when using inputStr(limit=3) in PyInputPlus, it raises a pyinputplus.RetryLimitException exception.\n",
    "\n",
    "The limit argument in inputStr(limit=3) specifies the maximum number of times the user can provide invalid input before an exception is raised. In this case, the limit is set to 3.\n",
    "\n",
    "When a blank input is entered, it is considered invalid by default. If the user enters three consecutive blank inputs, PyInputPlus will raise the RetryLimitException because the limit of 3 invalid inputs has been reached."
   ]
  },
  {
   "cell_type": "markdown",
   "metadata": {},
   "source": [
    "7. If blank input is entered three times, what does inputStr(limit=3, default='hello') do?\n",
    "ans\n",
    "If a blank input is entered three times consecutively when using inputStr(limit=3, default='hello') in PyInputPlus, the function will return the default value 'hello' instead of raising an exception.\n",
    "\n",
    "The limit argument in inputStr(limit=3, default='hello') specifies the maximum number of times the user can provide invalid input before the default value is returned. In this case, the limit is set to 3, and the default value is set to 'hello'.\n",
    "\n",
    "When a blank input is entered, it is considered invalid by default. If the user enters three consecutive blank inputs, PyInputPlus will return the default value 'hello' instead of raising an exception."
   ]
  },
  {
   "cell_type": "code",
   "execution_count": null,
   "metadata": {},
   "outputs": [],
   "source": []
  }
 ],
 "metadata": {
  "kernelspec": {
   "display_name": "Python 3.8.10 64-bit",
   "language": "python",
   "name": "python3"
  },
  "language_info": {
   "codemirror_mode": {
    "name": "ipython",
    "version": 3
   },
   "file_extension": ".py",
   "mimetype": "text/x-python",
   "name": "python",
   "nbconvert_exporter": "python",
   "pygments_lexer": "ipython3",
   "version": "3.8.10"
  },
  "orig_nbformat": 4,
  "vscode": {
   "interpreter": {
    "hash": "e7370f93d1d0cde622a1f8e1c04877d8463912d04d973331ad4851f04de6915a"
   }
  }
 },
 "nbformat": 4,
 "nbformat_minor": 2
}
