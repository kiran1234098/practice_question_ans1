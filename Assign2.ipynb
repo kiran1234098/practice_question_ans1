{
 "cells": [
  {
   "cell_type": "code",
   "execution_count": 1,
   "metadata": {},
   "outputs": [
    {
     "ename": "SyntaxError",
     "evalue": "invalid syntax (887294024.py, line 2)",
     "output_type": "error",
     "traceback": [
      "\u001b[0;36m  Cell \u001b[0;32mIn[1], line 2\u001b[0;36m\u001b[0m\n\u001b[0;31m    the two values are of the Boolean data type\u001b[0m\n\u001b[0m        ^\u001b[0m\n\u001b[0;31mSyntaxError\u001b[0m\u001b[0;31m:\u001b[0m invalid syntax\n"
     ]
    }
   ],
   "source": [
    "1.What are the two values of the Boolean data type? How do you write them?\n",
    "the two values are of the Boolean data type\n",
    "True\n",
    "False\n",
    "\n",
    "2.What are the three different types of Boolean operators?\n",
    "The three basic boolean operators are: AND, OR, and NOT.\n",
    "\n",
    "\n",
    "3. Make a list of each Boolean operator&#39;s truth tables (i.e. every possible combination of Boolean\n",
    "values for the operator and what it evaluate ).\n",
    "\n",
    "Truth Table for and Operation:\n",
    "X\t     Y\t    X and Y\n",
    "False\tFalse\tFalse\n",
    "True\tFalse\tFalse\n",
    "False\tTrue\tFalse\n",
    "True\tTrue\tTrue\n",
    "\n",
    "Truth Table for or Operation:\n",
    "X\t     Y\t   X or Y\n",
    "False\tFalse\tFalse\n",
    "True\tFalse\tTrue\n",
    "False\tTrue\tTrue\n",
    "True\tTrue\tTrue\n",
    "\n",
    "\n",
    "Truth Table for not Operation:\n",
    "X\t    not X\n",
    "True\tFalse\n",
    "False\tTrue\n",
    "\n"
   ]
  },
  {
   "cell_type": "markdown",
   "metadata": {},
   "source": [
    "4. What are the values of the following expressions?\n",
    "(5 > 4) and (3 == 5)\n",
    "not (5 > 4)\n",
    "(5 > 4) or (3 == 5)\n",
    "not ((5 > 4) or (3 == 5))\n",
    "(True and True) and (True == False)\n",
    "(not False) or (not True)"
   ]
  },
  {
   "cell_type": "code",
   "execution_count": 3,
   "metadata": {},
   "outputs": [
    {
     "name": "stdout",
     "output_type": "stream",
     "text": [
      "(5 > 4) and (3 == 5):False\n",
      "not (5 > 4) : False\n",
      "(5 > 4) or (3 == 5) : True\n",
      "not ((5 > 4) or (3 == 5) :False\n",
      "(True and True) and (True == False):False\n",
      "(not False) or (not True) :True\n",
      "\n"
     ]
    }
   ],
   "source": [
    "a= (5 > 4) and (3 == 5)\n",
    "b=not (5 > 4)\n",
    "c=(5 > 4) or (3 == 5)\n",
    "d=not ((5 > 4) or (3 == 5))\n",
    "\n",
    "e=(True and True) and (True == False)\n",
    "f=(not False) or (not True)\n",
    "print(f\"\"\"(5 > 4) and (3 == 5):{a}\n",
    "not (5 > 4) : {b}\n",
    "(5 > 4) or (3 == 5) : {c}\n",
    "not ((5 > 4) or (3 == 5) :{d}\n",
    "(True and True) and (True == False):{e}\n",
    "(not False) or (not True) :{f}\n",
    "\"\"\")"
   ]
  },
  {
   "cell_type": "markdown",
   "metadata": {},
   "source": [
    "5. What are the six comparison operators?\n",
    "==, !=,>,<,>=,<=\n",
    "\n",
    "6. How do you tell the difference between the equal to and assignment operators?Describe a\n",
    "condition and when you would use one.\n",
    "the equal to operator is -> ==\n",
    "and assignment operators is  -> =\n",
    "assignment operators is use for assigning value to variable like\n",
    "a = 2\n",
    "but\n",
    "the equal to operator is use for comparison like this  3==4 \n",
    "\n",
    "\n"
   ]
  },
  {
   "cell_type": "markdown",
   "metadata": {},
   "source": [
    "7. Identify the three blocks in this code:\n",
    "\n",
    "spam = 0\n",
    "if spam == 10:\n",
    "print(eggs&)\n",
    "if spam > 5:\n",
    "print(bacon)\n",
    "else:\n",
    "print(ham)\n",
    "print(spam)\n",
    "print(spam)\n",
    "\n",
    "ans:\n",
    "spam = 0\n",
    "if spam == 10:\n",
    "     print(eggs&)\n",
    "if spam > 5:\n",
    "     print(bacon)\n",
    "else:\n",
    "     print(ham)\n",
    "     print(spam)\n",
    "     print(spam)\n",
    "\n",
    "\n"
   ]
  },
  {
   "cell_type": "markdown",
   "metadata": {},
   "source": [
    "8. Write code that prints Hello if 1 is stored in spam, prints Howdy if 2 is stored in spam, and prints\n",
    "Greetings! if anything else is stored in spam."
   ]
  },
  {
   "cell_type": "code",
   "execution_count": 6,
   "metadata": {},
   "outputs": [
    {
     "name": "stdout",
     "output_type": "stream",
     "text": [
      "Greetings!\n"
     ]
    }
   ],
   "source": [
    "spam = int(input(\"enter a number\"))\n",
    "if spam == 1:\n",
    "    print(\"Hello\")\n",
    "\n",
    "elif spam == 2:\n",
    "    print(\"Howdy\")    \n",
    "\n",
    "else :\n",
    "    print(\"Greetings!\")\n",
    "\n"
   ]
  }
 ],
 "metadata": {
  "kernelspec": {
   "display_name": "Python 3.8.10 64-bit",
   "language": "python",
   "name": "python3"
  },
  "language_info": {
   "codemirror_mode": {
    "name": "ipython",
    "version": 3
   },
   "file_extension": ".py",
   "mimetype": "text/x-python",
   "name": "python",
   "nbconvert_exporter": "python",
   "pygments_lexer": "ipython3",
   "version": "3.8.10"
  },
  "orig_nbformat": 4,
  "vscode": {
   "interpreter": {
    "hash": "e7370f93d1d0cde622a1f8e1c04877d8463912d04d973331ad4851f04de6915a"
   }
  }
 },
 "nbformat": 4,
 "nbformat_minor": 2
}
