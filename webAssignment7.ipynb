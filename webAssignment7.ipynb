{
 "cells": [
  {
   "cell_type": "markdown",
   "metadata": {},
   "source": [
    "1. What is the name of the feature responsible for generating Regex objects?\n",
    "ans-\n",
    "The feature responsible for generating Regex objects is typically referred to as a regular expression engine or a regular expression compiler. Different programming languages and libraries may have their own specific names for this feature, but the underlying functionality is generally the same. Regular expressions are used to define patterns and perform pattern matching and manipulation tasks in text processing."
   ]
  },
  {
   "cell_type": "markdown",
   "metadata": {},
   "source": [
    "2. Why do raw strings often appear in Regex objects?\n",
    "ans:\n",
    "Raw strings, denoted by a leading 'r' character in some programming languages, are often used in regular expressions to avoid the need for excessive escaping of special characters.\n",
    "\n",
    "In regular expressions, backslashes () are commonly used to escape special characters with special meanings, such as '.' (dot), '*', '+', and others. However, in many programming languages, backslashes also have special meanings within string literals, used for escaping characters like newline (\\n) or tab (\\t). This can lead to a situation where you need to use double backslashes (\\) to represent a single backslash in a regular expression pattern.\n",
    "\n",
    "By using raw strings, the backslashes within the regular expression pattern are treated as literal characters, without any special escaping behavior. This makes it easier to write and read regular expressions, as you don't have to worry about double escaping. For example, a regular expression to match a backslash character itself would be written as r'\\' instead of '\\'.\n"
   ]
  },
  {
   "cell_type": "markdown",
   "metadata": {},
   "source": [
    "3. What is the return value of the search() method?\n",
    "ans:\n",
    "The search() method, typically provided by regular expression libraries or modules in programming languages, searches for a pattern within a given string and returns a match object if a match is found.\n",
    "\n",
    "The return value of the search() method depends on the specific programming language or library being used, but it commonly returns a match object or a similar data structure. The match object provides various methods and attributes to access information about the matched pattern.\n",
    "\n",
    "For example, in Python's re module, the search() method returns a match object if a match is found, or None if no match is found. You can use methods and attributes of the match object, such as group(), start(), end(), and span(), to access details about the match."
   ]
  },
  {
   "cell_type": "markdown",
   "metadata": {},
   "source": [
    "4. From a Match item, how do you get the actual strings that match the pattern?\n",
    "Ans:\n",
    "To retrieve the actual strings that match the pattern from a Match object, you can use the group() method. The group() method without any arguments returns the entire matched string.\n",
    "\n",
    "In addition to the full match, you can also retrieve specific captured groups within the match if you have defined capturing groups in your regular expression pattern. Capturing groups are defined by enclosing a part of the pattern in parentheses. You can access captured groups using the group() method by specifying the group index or name as an argument."
   ]
  },
  {
   "cell_type": "markdown",
   "metadata": {},
   "source": [
    "5.In the regex which created from the r'(\\d\\d\\d)-(\\d\\d\\d-\\d\\d\\d\\d)', what does group zero cover?\n",
    "Group 2? Group 1?\n",
    "In the regular expression r'(\\d\\d\\d)-(\\d\\d\\d-\\d\\d\\d\\d)', the groups are defined by enclosing parts of the pattern in parentheses.\n",
    "\n",
    "Group 0: The entire match is represented by group 0. It covers the entire matched string.\n",
    "\n",
    "Group 1: This group corresponds to the first set of three digits enclosed in parentheses (\\d\\d\\d). It captures three consecutive digits.\n",
    "\n",
    "Group 2: This group corresponds to the second part of the pattern (\\d\\d\\d-\\d\\d\\d\\d). It captures three digits followed by a hyphen and then four digits."
   ]
  },
  {
   "cell_type": "code",
   "execution_count": 1,
   "metadata": {},
   "outputs": [
    {
     "name": "stdout",
     "output_type": "stream",
     "text": [
      "Match found!\n",
      "Full match: 123-456-7890\n",
      "Group 1: 123\n",
      "Group 2: 456-7890\n"
     ]
    }
   ],
   "source": [
    "import re\n",
    "\n",
    "pattern = r'(\\d\\d\\d)-(\\d\\d\\d-\\d\\d\\d\\d)'\n",
    "text = 'Phone number: 123-456-7890'\n",
    "\n",
    "match = re.search(pattern, text)\n",
    "\n",
    "if match:\n",
    "    print(\"Match found!\")\n",
    "    print(\"Full match:\", match.group(0))  # Output: 123-456-7890\n",
    "    print(\"Group 1:\", match.group(1))  # Output: 123\n",
    "    print(\"Group 2:\", match.group(2))  # Output: 456-7890\n",
    "else:\n",
    "    print(\"No match found!\")\n"
   ]
  },
  {
   "cell_type": "markdown",
   "metadata": {},
   "source": [
    "6. In standard expression syntax, parentheses and intervals have distinct meanings. How can you tell\n",
    "a regex that you want it to fit real parentheses and periods?\n",
    "\n",
    "\n",
    "In regular expressions, parentheses and periods have special meanings and are used for grouping and matching any character (except newline) respectively. If you want to match literal parentheses and periods, you need to escape them by preceding them with a backslash ().\n",
    "\n",
    "To tell a regular expression that you want to match literal parentheses and periods, you can use the backslash to escape them. This indicates that you are looking for the actual characters rather than their special meanings in the regular expression syntax.\n",
    "\n",
    "Here are the escaped versions of parentheses and period in regular expressions:\n",
    "\n",
    "Literal Parentheses: To match literal parentheses, use \\( to match an opening parenthesis and \\) to match a closing parenthesis. For example, to match the string \"(example)\", the regular expression would be \\(example\\).\n",
    "\n",
    "Literal Period: To match a literal period, use \\.. For example, to match the string \"example.com\", the regular expression would be example\\.com."
   ]
  },
  {
   "cell_type": "markdown",
   "metadata": {},
   "source": [
    "7. The findall() method returns a string list or a list of string tuples. What causes it to return one of\n",
    "the two options?\n",
    "ans:\n",
    "The findall() method returns different data structures based on the presence or absence of capturing groups in the regular expression pattern.\n",
    "\n",
    "When there are no capturing groups in the regular expression pattern, findall() returns a list of strings. Each string in the list represents a complete match of the pattern found in the input text.\n",
    "\n",
    "When there are one or more capturing groups in the regular expression pattern, findall() returns a list of tuples. Each tuple in the list represents a complete match of the pattern found in the input text, and each element of the tuple corresponds to the captured groups within that match.\n",
    "\n",
    "If the regular expression pattern contains one capturing group, each tuple will have one element representing the captured group. If there are multiple capturing groups, each tuple will have multiple elements, with each element representing a captured group in the order they appear in the pattern."
   ]
  },
  {
   "cell_type": "markdown",
   "metadata": {},
   "source": [
    "8. In standard expressions, what does the | character mean?\n",
    "ans:\n",
    "In regular expressions, the | (pipe) character is used as an \"OR\" operator, often referred to as the alternation operator. It allows you to specify multiple alternative patterns, and if any of those patterns match, the overall match is considered successful.\n",
    "\n",
    "The | operator separates multiple alternatives and matches the pattern on its left or the pattern on its right. It essentially creates a logical OR condition between the patterns.\n",
    "\n",
    "Here are a few examples to illustrate the usage of the | operator:\n",
    "\n",
    "Matching alternatives:\n",
    "\n",
    "Pattern: apple|banana\n",
    "Matches: \"apple\" or \"banana\"\n",
    "Matching specific words:\n",
    "\n",
    "Pattern: cat|dog\n",
    "Matches: \"cat\" or \"dog\"\n",
    "Matching different formats:\n",
    "\n",
    "Pattern: \\d{3}-\\d{3}|\\d{4}\n",
    "Matches: \"123-456\" or \"7890\"\n",
    "Matching case-insensitive alternatives:\n",
    "\n",
    "Pattern: apple|Banana|Cherry\n",
    "Matches: \"apple\" or \"Banana\" or \"Cherry\"\n",
    "Combining patterns with the | operator:\n",
    "\n",
    "Pattern: hello|hi|hey, (world|you)\n",
    "Matches: \"hello, world\", \"hi, you\", \"hey, world\", etc.\n",
    "Note that the | operator has precedence, so it's important to use parentheses if you want to specify the scope of the alternation. For example, (apple|banana)+ matches one or more occurrences of \"apple\" or \"banana\" as a whole, not just \"apple\" or \"banana\" individually.\n",
    "\n",
    "The | operator is a powerful tool to define multiple alternative patterns in regular expressions, allowing for flexible matching based on different possibilities.\n",
    "\n",
    "\n",
    "\n",
    "\n"
   ]
  },
  {
   "cell_type": "markdown",
   "metadata": {},
   "source": [
    "9. In regular expressions, what does the character stand for?\n",
    "ans: incomplete"
   ]
  },
  {
   "cell_type": "markdown",
   "metadata": {},
   "source": [
    "10.In regular expressions, what is the difference between the + and * characters?\n",
    "ans:\n",
    "In regular expressions, the + and * characters are known as quantifiers, used to specify the number of occurrences of the preceding element in the pattern.\n",
    "\n",
    "The main difference between the + and * characters is as follows:\n",
    "\n",
    "+ (Plus) Quantifier:\n",
    "\n",
    "Matches one or more occurrences of the preceding element.\n",
    "The preceding element must occur at least once for the match to be successful.\n",
    "Example: a+ matches one or more occurrences of the letter \"a\".\n",
    "* (Asterisk) Quantifier:\n",
    "\n",
    "Matches zero or more occurrences of the preceding element.\n",
    "The preceding element may occur zero times or any number of times for the match to be successful.\n",
    "Example: a* matches zero or more occurrences of the letter \"a\".\n",
    "Here are a few examples to illustrate the usage of + and *:\n",
    "\n",
    "Pattern: ca+t\n",
    "\n",
    "Matches: \"cat\", \"caat\", \"caaat\", and so on, but not \"ct\" (as the preceding \"a\" must occur at least once).\n",
    "Pattern: go*d\n",
    "\n",
    "Matches: \"god\", \"good\", \"gooood\", \"gd\" (as the preceding \"o\" may occur zero or more times).\n",
    "Pattern: ab*c\n",
    "\n",
    "Matches: \"ac\", \"abc\", \"abbc\", \"abbbc\", and so on, as the preceding \"b\" may occur zero or more times.\n",
    "It's worth noting that both + and * are greedy quantifiers, meaning they match as many occurrences as possible. If you want to make them non-greedy, you can add a ? after them (e.g., +? or *?).\n",
    "\n",
    "In summary, the + quantifier matches one or more occurrences of the preceding element, while the * quantifier matches zero or more occurrences of the preceding element."
   ]
  },
  {
   "cell_type": "markdown",
   "metadata": {},
   "source": [
    "11. What is the difference between {4} and {4,5} in regular expression?\n",
    "\n",
    "In regular expressions, the curly braces {} are used as quantifiers to specify the exact number of occurrences of the preceding element. The difference between {4} and {4,5} is as follows:\n",
    "\n",
    "{4} Quantifier:\n",
    "\n",
    "Matches exactly four occurrences of the preceding element.\n",
    "The preceding element must occur exactly four times for the match to be successful.\n",
    "Example: \\d{4} matches a sequence of exactly four digits.\n",
    "{4,5} Quantifier:\n",
    "\n",
    "Matches between four and five occurrences of the preceding element.\n",
    "The preceding element must occur at least four times and at most five times for the match to be successful.\n",
    "Example: [A-Za-z]{4,5} matches a sequence of four or five uppercase or lowercase letters.\n",
    "Here are a few more examples to illustrate the usage of {4} and {4,5}:\n",
    "\n",
    "Pattern: [a-z]{3}\n",
    "\n",
    "Matches: \"abc\", \"xyz\", \"def\", but not \"abcd\" (as the preceding lowercase letter must occur exactly three times).\n",
    "Pattern: \\d{2,4}\n",
    "\n",
    "Matches: \"12\", \"123\", \"1234\", but not \"1\" or \"12345\" (as the preceding digit must occur between two and four times).\n",
    "Pattern: [0-9]{4,}\n",
    "\n",
    "Matches: \"1234\", \"98765\", \"0123456789\", and so on (as the preceding digit can occur four or more times).\n",
    "In summary, {4} specifies an exact number of occurrences (in this case, four), while {4,5} specifies a range of occurrences (between four and five, inclusive).\n",
    "\n",
    "\n",
    "\n",
    "\n"
   ]
  },
  {
   "cell_type": "markdown",
   "metadata": {},
   "source": [
    "12. What do you mean by the \\d, \\w, and \\s shorthand character classes signify in regular\n",
    "expressions?\n",
    "In regular expressions, the shorthand character classes \\d, \\w, and \\s are used to match specific sets of characters. Here's what each of them signifies:\n",
    "\n",
    "\\d:\n",
    "\n",
    "Matches any digit character (0-9).\n",
    "Equivalent to the character class [0-9].\n",
    "Example: \\d matches any single digit.\n",
    "\\w:\n",
    "\n",
    "Matches any word character, which includes alphanumeric characters (a-z, A-Z, 0-9) and the underscore (_).\n",
    "Equivalent to the character class [a-zA-Z0-9_].\n",
    "Example: \\w+ matches one or more word characters.\n",
    "\\s:\n",
    "\n",
    "Matches any whitespace character, including spaces, tabs, and newline characters.\n",
    "Equivalent to the character class [\\t\\n\\f\\r ].\n",
    "Example: \\s+ matches one or more whitespace characters.\n",
    "Here are a few examples to illustrate the usage of \\d, \\w, and \\s:\n",
    "\n",
    "Pattern: \\d\\d-\\d\\d-\\d\\d\\d\\d\n",
    "\n",
    "Matches: \"01-23-2023\", \"12-31-2021\", and so on (as it matches a date format with two digits separated by hyphens).\n",
    "Pattern: \\w+\n",
    "\n",
    "Matches: \"hello\", \"world\", \"openAI\", \"chat_gpt\", and so on (as it matches one or more word characters).\n",
    "Pattern: \\s{2,}\n",
    "\n",
    "Matches: \" \", \" \", and so on (as it matches two or more whitespace characters).\n",
    "It's important to note that these shorthand character classes are shortcuts for commonly used character classes. However, you can also define your own character classes using explicit character ranges and additional characters as needed.\n",
    "\n",
    "In summary, \\d matches digits, \\w matches word characters, and \\s matches whitespace characters in regular expressions.\n",
    "\n",
    "\n",
    "\n",
    "\n"
   ]
  },
  {
   "cell_type": "markdown",
   "metadata": {},
   "source": [
    "13. What do means by \\D, \\W, and \\S shorthand character classes signify in regular expressions?\n",
    "ans:\n",
    "In regular expressions, the shorthand character classes \\D, \\W, and \\S are negations of their respective counterparts \\d, \\w, and \\s. Here's what each of them signifies:\n",
    "\n",
    "\\D:\n",
    "\n",
    "Matches any character that is not a digit.\n",
    "Equivalent to the character class [^0-9].\n",
    "Example: \\D+ matches one or more non-digit characters.\n",
    "\\W:\n",
    "\n",
    "Matches any character that is not a word character.\n",
    "Equivalent to the character class [^a-zA-Z0-9_].\n",
    "Example: \\W+ matches one or more non-word characters.\n",
    "\\S:\n",
    "\n",
    "Matches any character that is not a whitespace character.\n",
    "Equivalent to the character class [^\\t\\n\\f\\r ].\n",
    "Example: \\S+ matches one or more non-whitespace characters.\n",
    "Here are a few examples to illustrate the usage of \\D, \\W, and \\S:\n",
    "\n",
    "Pattern: \\D{3}\n",
    "\n",
    "Matches: \"abc\", \"xyz\", \"$%#\", and so on (as it matches three consecutive non-digit characters).\n",
    "Pattern: \\W+\n",
    "\n",
    "Matches: \"@!$%^&\", \"#*@#\", \"1234!\", and so on (as it matches one or more non-word characters).\n",
    "Pattern: \\S\\s\\S\n",
    "\n",
    "Matches: \"a b\", \"x\\tz\", \"1\\r2\", and so on (as it matches a non-whitespace character followed by a whitespace character and then another non-whitespace character).\n",
    "It's important to note that these shorthand character classes are negations of their counterparts. They match any characters that are not included in their respective shorthand character classes.\n",
    "\n",
    "In summary, \\D matches non-digits, \\W matches non-word characters, and \\S matches non-whitespace characters in regular expressions."
   ]
  },
  {
   "cell_type": "markdown",
   "metadata": {},
   "source": [
    "14. What is the difference between .*? and .*?\n",
    "ans:\n",
    "\n",
    "The difference between .*? and .* lies in their behavior as quantifiers in regular expressions.\n",
    "\n",
    ".*? (Non-Greedy/Lazy Quantifier):\n",
    "\n",
    "Matches zero or more occurrences of any character (except newline) in a non-greedy/lazy manner.\n",
    "The non-greedy quantifier matches as few characters as possible while still allowing the overall pattern to match.\n",
    "Example: a.*?b matches the shortest possible sequence of characters between 'a' and 'b' (e.g., in the string \"aabab\", it would match \"aab\").\n",
    ".* (Greedy Quantifier):\n",
    "\n",
    "Matches zero or more occurrences of any character (except newline) in a greedy manner.\n",
    "The greedy quantifier matches as many characters as possible while still allowing the overall pattern to match.\n",
    "Example: a.*b matches the longest possible sequence of characters between 'a' and 'b' (e.g., in the string \"aabab\", it would match \"aabab\").\n",
    "In summary, the difference between .*? and .* is in their greediness. .*? is non-greedy and matches as few characters as possible, while .* is greedy and matches as many characters as possible.\n",
    "\n",
    "It's important to note that the behavior of the quantifiers can vary depending on the context in which they are used and the overall structure of the regular expression. The difference becomes more significant when there are other elements in the regular expression that can match the same characters as .*? or .*, as it affects the overall pattern matching and capturing behavior.\n",
    "\n",
    "\n",
    "\n",
    "\n",
    "\n"
   ]
  },
  {
   "cell_type": "markdown",
   "metadata": {},
   "source": [
    "15. What is the syntax for matching both numbers and lowercase letters with a character class?\n"
   ]
  },
  {
   "cell_type": "code",
   "execution_count": null,
   "metadata": {},
   "outputs": [],
   "source": [
    "[0-9a-z]\n"
   ]
  },
  {
   "cell_type": "markdown",
   "metadata": {},
   "source": [
    "16. What is the procedure for making a normal expression in regax case insensitive?\n",
    "\n",
    "To make a regular expression case-insensitive in Python, you can use the re.IGNORECASE or re.I flag. This flag is passed as an argument to the regular expression functions in the re module."
   ]
  },
  {
   "cell_type": "markdown",
   "metadata": {},
   "source": [
    "17. What does the . character normally match? What does it match if re.DOTALL is passed as 2nd\n",
    "argument in re.compile()?\n",
    "ans:\n",
    "\n",
    "In regular expressions, the . (dot) character normally matches any character except a newline (\\n). However, if the re.DOTALL flag is passed as the second argument in re.compile(), the . character will match any character, including a newline."
   ]
  },
  {
   "cell_type": "markdown",
   "metadata": {},
   "source": [
    "18. If numReg = re.compile(r'\\d+'), what will numRegex.sub('X', '11 drummers, 10 pipers, five rings, 4\n",
    "hen') return?"
   ]
  },
  {
   "cell_type": "code",
   "execution_count": 4,
   "metadata": {},
   "outputs": [
    {
     "name": "stdout",
     "output_type": "stream",
     "text": [
      "X drummers, X pipers, five rings, X hen\n"
     ]
    }
   ],
   "source": [
    "numReg = re.compile(r'\\d+')\n",
    "m=numReg.sub('X', '11 drummers, 10 pipers, five rings, 4 hen')\n",
    "print(m)"
   ]
  },
  {
   "cell_type": "markdown",
   "metadata": {},
   "source": [
    "19. What does passing re.VERBOSE as the 2nd argument to re.compile() allow to do?\n",
    "ans:\n",
    "\n",
    "Passing re.VERBOSE as the second argument to re.compile() allows you to create more readable and organized regular expressions by adding comments and whitespace to the pattern. It enables the use of verbose mode in regular expressions.\n",
    "\n",
    "Here's what using re.VERBOSE allows you to do:\n",
    "\n",
    "Add comments: You can include comments within the regular expression pattern to explain the purpose or logic of specific parts of the pattern. Comments start with the # symbol and extend until the end of the line.\n",
    "\n",
    "Use whitespace: You can include whitespace (spaces, tabs, newlines) within the pattern to improve readability and organization. Whitespace is ignored when compiling the regular expression, so it doesn't affect the actual matching process."
   ]
  },
  {
   "cell_type": "markdown",
   "metadata": {},
   "source": [
    "20. How would you write a regex that match a number with comma for every three digits? It must\n",
    "match the given following:\n",
    "'42'\n",
    "'1,234'\n",
    "'6,368,745'\n",
    "but not the following:\n",
    "'12,34,567' (which has only two digits between the commas)\n",
    "'1234' (which lacks commas)"
   ]
  },
  {
   "cell_type": "code",
   "execution_count": 5,
   "metadata": {},
   "outputs": [
    {
     "name": "stdout",
     "output_type": "stream",
     "text": [
      "Match found: 42\n",
      "Match found: 1,234\n",
      "Match found: 6,368,745\n",
      "No match found: 12,34,567\n",
      "No match found: 1234\n"
     ]
    }
   ],
   "source": [
    "import re\n",
    "\n",
    "pattern = r'^\\d{1,3}(,\\d{3})*$'\n",
    "\n",
    "numbers = ['42', '1,234', '6,368,745', '12,34,567', '1234']\n",
    "\n",
    "for number in numbers:\n",
    "    if re.match(pattern, number):\n",
    "        print(f\"Match found: {number}\")\n",
    "    else:\n",
    "        print(f\"No match found: {number}\")\n"
   ]
  },
  {
   "cell_type": "markdown",
   "metadata": {},
   "source": [
    "21. How would you write a regex that matches the full name of someone whose last name is\n",
    "Watanabe? You can assume that the first name that comes before it will always be one word that\n",
    "begins with a capital letter. The regex must match the following:\n",
    "'Haruto Watanabe'\n",
    "'Alice Watanabe'\n",
    "'RoboCop Watanabe'\n",
    "but not the following:\n",
    "'haruto Watanabe' (where the first name is not capitalized)\n",
    "'Mr. Watanabe' (where the preceding word has a nonletter character)\n",
    "'Watanabe' (which has no first name)\n",
    "'Haruto watanabe' (where Watanabe is not capitalized)"
   ]
  },
  {
   "cell_type": "code",
   "execution_count": 6,
   "metadata": {},
   "outputs": [
    {
     "name": "stdout",
     "output_type": "stream",
     "text": [
      "Match found: Haruto Watanabe\n",
      "Match found: Alice Watanabe\n",
      "Match found: RoboCop Watanabe\n",
      "No match found: haruto Watanabe\n",
      "No match found: Mr. Watanabe\n",
      "No match found: Watanabe\n",
      "No match found: Haruto watanabe\n"
     ]
    }
   ],
   "source": [
    "import re\n",
    "\n",
    "pattern = r'^[A-Z][a-zA-Z]*\\sWatanabe$'\n",
    "\n",
    "names = ['Haruto Watanabe', 'Alice Watanabe', 'RoboCop Watanabe', 'haruto Watanabe', 'Mr. Watanabe', 'Watanabe', 'Haruto watanabe']\n",
    "\n",
    "for name in names:\n",
    "    if re.match(pattern, name):\n",
    "        print(f\"Match found: {name}\")\n",
    "    else:\n",
    "        print(f\"No match found: {name}\")\n"
   ]
  },
  {
   "cell_type": "markdown",
   "metadata": {},
   "source": [
    "22. How would you write a regex that matches a sentence where the first word is either Alice, Bob,\n",
    "or Carol; the second word is either eats, pets, or throws; the third word is apples, cats, or baseballs;\n",
    "and the sentence ends with a period? This regex should be case-insensitive. It must match the\n",
    "following:\n",
    "'Alice eats apples.'\n",
    "'Bob pets cats.'\n",
    "'Carol throws baseballs.'\n",
    "'Alice throws Apples.'\n",
    "'BOB EATS CATS.'\n",
    "but not the following:\n",
    "'RoboCop eats apples.'\n",
    "'ALICE THROWS FOOTBALLS.'\n",
    "'Carol eats 7 cats.'"
   ]
  },
  {
   "cell_type": "code",
   "execution_count": 7,
   "metadata": {},
   "outputs": [
    {
     "name": "stdout",
     "output_type": "stream",
     "text": [
      "Match found: Alice eats apples.\n",
      "Match found: Bob pets cats.\n",
      "Match found: Carol throws baseballs.\n",
      "Match found: Alice throws Apples.\n",
      "Match found: BOB EATS CATS.\n",
      "No match found: RoboCop eats apples.\n",
      "No match found: ALICE THROWS FOOTBALLS.\n",
      "No match found: Carol eats 7 cats.\n"
     ]
    },
    {
     "name": "stderr",
     "output_type": "stream",
     "text": [
      "/tmp/ipykernel_300/1203794614.py:16: DeprecationWarning: Flags not at the start of the expression '^(?i)(Alice|Bob|Caro' (truncated)\n",
      "  regex = re.compile(pattern)\n"
     ]
    }
   ],
   "source": [
    "import re\n",
    "\n",
    "pattern = r'^(?i)(Alice|Bob|Carol)\\s(eats|pets|throws)\\s(apples|cats|baseballs)\\.$'\n",
    "\n",
    "sentences = [\n",
    "    'Alice eats apples.',\n",
    "    'Bob pets cats.',\n",
    "    'Carol throws baseballs.',\n",
    "    'Alice throws Apples.',\n",
    "    'BOB EATS CATS.',\n",
    "    'RoboCop eats apples.',\n",
    "    'ALICE THROWS FOOTBALLS.',\n",
    "    'Carol eats 7 cats.'\n",
    "]\n",
    "\n",
    "regex = re.compile(pattern)\n",
    "\n",
    "for sentence in sentences:\n",
    "    if regex.match(sentence):\n",
    "        print(f\"Match found: {sentence}\")\n",
    "    else:\n",
    "        print(f\"No match found: {sentence}\")\n"
   ]
  }
 ],
 "metadata": {
  "kernelspec": {
   "display_name": "Python 3.8.10 64-bit",
   "language": "python",
   "name": "python3"
  },
  "language_info": {
   "codemirror_mode": {
    "name": "ipython",
    "version": 3
   },
   "file_extension": ".py",
   "mimetype": "text/x-python",
   "name": "python",
   "nbconvert_exporter": "python",
   "pygments_lexer": "ipython3",
   "version": "3.8.10"
  },
  "orig_nbformat": 4,
  "vscode": {
   "interpreter": {
    "hash": "e7370f93d1d0cde622a1f8e1c04877d8463912d04d973331ad4851f04de6915a"
   }
  }
 },
 "nbformat": 4,
 "nbformat_minor": 2
}
